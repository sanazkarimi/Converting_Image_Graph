{
 "cells": [
  {
   "cell_type": "markdown",
   "metadata": {},
   "source": [
    "# Imports"
   ]
  },
  {
   "cell_type": "code",
   "execution_count": 9,
   "metadata": {},
   "outputs": [],
   "source": [
    "import numpy as np \n",
    "from skimage import io\n",
    "from skimage.io import imread\n",
    "import matplotlib.pyplot as plt\n",
    "import seaborn as sns\n",
    "from scipy.stats import entropy\n",
    "import os\n",
    "import seaborn as sns"
   ]
  },
  {
   "cell_type": "markdown",
   "metadata": {},
   "source": [
    "# Create patches for each class"
   ]
  },
  {
   "cell_type": "code",
   "execution_count": 11,
   "metadata": {},
   "outputs": [],
   "source": [
    "datadir = \"E:\\im_processing4\"\n",
    "if not os.path.exists(os.path.join(datadir,\"Input_data\")):\n",
    "    \n",
    "    os.makedirs(os.path.join(datadir, \"Input_data\"))\n",
    "    \n",
    "    data_dir2=\"E:\\im_processing4\\Input_data\"\n",
    "    \n",
    "    os.makedirs(os.path.join(data_dir2, \"Patch1\"))\n",
    "    os.makedirs(os.path.join(data_dir2, \"Patch2\"))\n",
    "    os.makedirs(os.path.join(data_dir2, \"Patch3\"))\n",
    "\n",
    "\n",
    "save_dir1=\"E:\\im_processing4\\Input_data\\Patch1\"\n",
    "save_dir2=\"E:\\im_processing4\\Input_data\\Patch2\"\n",
    "save_dir3=\"E:\\im_processing4\\Input_data\\Patch3\"\n",
    "\n",
    "training_data = []\n",
    "\n",
    "DATADIR = \"E:\\im_processing4\\data\"\n",
    "CATEGORIES = [\"Class1\",\"Class2\",\"Class3\"]\n",
    "org_mtrx = []\n",
    "k_1 = 0\n",
    "k_2 = 0\n",
    "k_3 = 0\n",
    "for category in CATEGORIES:\n",
    "    if category == \"Class1\":\n",
    "        clss_grade = 1\n",
    "    elif category == \"Class2\":\n",
    "        clss_grade = 2\n",
    "    else:\n",
    "        clss_grade = 3\n",
    "        \n",
    "    path = os.path.join(DATADIR,category)\n",
    "    clss_name, _ = os.path.splitext(category)\n",
    "    for img in os.listdir(path): \n",
    "        mtrx = []\n",
    "        name, _ = os.path.splitext(img)          \n",
    "        img_array = imread(os.path.join(path,img))             \n",
    "        H = img_array.shape[0]\n",
    "        W = img_array.shape[1]\n",
    "        Patch_Height = 256\n",
    "        Patch_Width = 256\n",
    "\n",
    "        heat_map = []\n",
    "        \n",
    "        index_x = -1\n",
    "        for i in range(0,H,Patch_Height):\n",
    "            index_x += 1\n",
    "            index_y = -1\n",
    "            for j in range(0,W,Patch_Width):\n",
    "                index_y += 1\n",
    "                patch = img_array[i:i+Patch_Height,j:j+Patch_Width]\n",
    "                #patch_one_channel=patch[:,:,2]\n",
    "                name1 = \"image_x{}\".format(k_1)\n",
    "                name2 = \"image_y{}\".format(k_2)\n",
    "                name3 = \"image_z{}\".format(k_3)\n",
    "                if patch.shape[0] == Patch_Height and patch.shape[1] == Patch_Width:\n",
    "                    if clss_name == \"Class1\" :\n",
    "                        index_patch = [index_x, index_y]\n",
    "                        mtrx.append([name, name1, index_patch,clss_grade])\n",
    "                        k_1 +=1\n",
    "                        io.imsave(os.path.join(save_dir1, (name1) + \".jpeg\"), patch) \n",
    "                    if clss_name == \"Class2\":\n",
    "                        index_patch = [index_x, index_y]\n",
    "                        mtrx.append([name, name2, index_patch,clss_grade])\n",
    "                        k_2 +=1\n",
    "                        io.imsave(os.path.join(save_dir2, (name2) + \".jpeg\"), patch) \n",
    "                    if clss_name == \"Class3\":\n",
    "                        index_patch = [index_x, index_y]\n",
    "                        mtrx.append([name, name3, index_patch,clss_grade])\n",
    "                        k_3 +=1\n",
    "                        io.imsave(os.path.join(save_dir3, (name3) + \".jpeg\"), patch) \n",
    "\n",
    "        org_mtrx .append(mtrx)           \n"
   ]
  }
 ],
 "metadata": {
  "kernelspec": {
   "display_name": "Python 3 (ipykernel)",
   "language": "python",
   "name": "python3"
  },
  "language_info": {
   "codemirror_mode": {
    "name": "ipython",
    "version": 3
   },
   "file_extension": ".py",
   "mimetype": "text/x-python",
   "name": "python",
   "nbconvert_exporter": "python",
   "pygments_lexer": "ipython3",
   "version": "3.8.10"
  }
 },
 "nbformat": 4,
 "nbformat_minor": 4
}
