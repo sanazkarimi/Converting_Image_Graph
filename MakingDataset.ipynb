{
 "cells": [
  {
   "cell_type": "markdown",
   "metadata": {},
   "source": [
    "# Imports"
   ]
  },
  {
   "cell_type": "code",
   "execution_count": 6,
   "metadata": {},
   "outputs": [],
   "source": [
    "from PIL import ImageDraw\n",
    "import matplotlib.pyplot as plt\n",
    "from PIL import Image, ImageEnhance \n",
    "import numpy as np\n",
    "import random\n",
    "import math\n",
    "import os\n",
    "from skimage import io\n",
    "from skimage.io import imread\n",
    "import matplotlib.pyplot as plt\n",
    "from scipy.stats import entropy\n",
    "from PIL import ImageFilter\n",
    "from PIL import ImageOps\n",
    "import tensorflow as tf"
   ]
  },
  {
   "cell_type": "markdown",
   "metadata": {},
   "source": [
    "# Making Folder"
   ]
  },
  {
   "cell_type": "code",
   "execution_count": 7,
   "metadata": {},
   "outputs": [],
   "source": [
    "data_dir=\"G:\"  \n",
    "\n",
    "if not os.path.exists(os.path.join(data_dir, \"Input_data\")):\n",
    "    \n",
    "    os.makedirs(os.path.join(data_dir, \"Input_data\"))\n",
    "    \n",
    "    data_dir2=\"G:\\Input_data\"\n",
    "    \n",
    "    os.makedirs(os.path.join(data_dir2, \"Org\"))\n",
    "    os.makedirs(os.path.join(data_dir2, \"class1\"))\n",
    "    os.makedirs(os.path.join(data_dir2, \"class2\"))\n",
    "\n",
    "save_dir1 = \"G:\\Input_data\\Org\"\n",
    "save_dir2 = \"G:\\Input_data\\class1\"\n",
    "save_dir3 = \"G:\\Input_data\\class2\"\n"
   ]
  },
  {
   "cell_type": "markdown",
   "metadata": {},
   "source": [
    "# Making Dataset"
   ]
  },
  {
   "cell_type": "code",
   "execution_count": 8,
   "metadata": {},
   "outputs": [],
   "source": [
    "n=500\n",
    "counter=0\n",
    "while counter<n:\n",
    "    \n",
    "    a = np.random.randint(35,50)\n",
    "    b = np.random.randint(15,25)\n",
    "    overlay = Image.new('RGBA', (a, b))\n",
    "    draw = ImageDraw.Draw(overlay)\n",
    "    draw.ellipse((0, 0, a, b), '#0f0')\n",
    "    enhancer1 = ImageEnhance.Brightness(overlay)\n",
    "    enhanced_im1 = enhancer1.enhance(0.8)\n",
    "    enhancer2 = ImageEnhance.Brightness(overlay)\n",
    "    enhanced_im2 = enhancer2.enhance(0.5)\n",
    "    im1 = Image.new('RGB',(200,200))\n",
    "    im2 = Image.new('RGB',(200,200))\n",
    "    im3 = Image.new('RGB',(200,200))\n",
    "   \n",
    "    for i in range(5):\n",
    "        Distance=[]\n",
    "        angle = random.sample(range(-90,90), 4) \n",
    "        for j in range(4):\n",
    "            \n",
    "            rotated1 = overlay.rotate(angle[j], expand=True)\n",
    "            rotated2 = enhanced_im1.rotate(angle[j], expand=True)\n",
    "            rotated3 = enhanced_im2.rotate(angle[j], expand=True)\n",
    "            d = abs(math.sin(angle[j]))\n",
    "            distance = a* d\n",
    "            Distance.append(distance)\n",
    "            CS = np.cumsum(Distance)\n",
    "            x = np.random.randint(0,10)\n",
    "            y = np.random.randint(0,10)\n",
    "\n",
    "            im1.paste(rotated1, (i*(x+a), int(CS[j])+j*(b+y)), rotated1)\n",
    "            im2.paste(rotated2, (i*(x+a), int(CS[j])+j*(b+y)), rotated2)\n",
    "            im3.paste(rotated3, (i*(x+a), int(CS[j])+j*(b+y)), rotated3)\n",
    "\n",
    "    counter+=1  \n",
    "    name=\"image\" \n",
    "    \n",
    "    fileFormat = \"{0}{1}{2}.jpeg\"\n",
    "    im1.save(os.path.join(save_dir2, fileFormat.format(name,\"a\",counter)))\n",
    "    im2.save(os.path.join(save_dir1, fileFormat.format(name ,\"b\",counter)))\n",
    "    im3.save(os.path.join(save_dir3, fileFormat.format(name ,\"c\",counter)))\n"
   ]
  },
  {
   "cell_type": "markdown",
   "metadata": {},
   "source": [
    "# Making Folder"
   ]
  },
  {
   "cell_type": "code",
   "execution_count": 9,
   "metadata": {},
   "outputs": [],
   "source": [
    "data_dir_N=\"G:\"  \n",
    "\n",
    "if not os.path.exists(os.path.join(data_dir_N, \"Input_data2\")):\n",
    "    \n",
    "    os.makedirs(os.path.join(data_dir_N, \"Input_data2\"))\n",
    "    \n",
    "    data_dir_N2=\"G:\\Input_data2\"\n",
    "    \n",
    "    os.makedirs(os.path.join(data_dir_N2, \"Org\"))\n",
    "    os.makedirs(os.path.join(data_dir_N2, \"class1\"))\n",
    "    os.makedirs(os.path.join(data_dir_N2, \"class2\"))\n",
    "\n",
    "save_dir_N1 = \"G:\\Input_data2\\Org\"\n",
    "save_dir_N2 = \"G:\\Input_data2\\class1\"\n",
    "save_dir_N3 = \"G:\\Input_data2\\class2\""
   ]
  },
  {
   "cell_type": "markdown",
   "metadata": {},
   "source": [
    "# separating each channel"
   ]
  },
  {
   "cell_type": "code",
   "execution_count": 10,
   "metadata": {},
   "outputs": [],
   "source": [
    "data_dir2=\"G:\\Input_data\"\n",
    "CATEGORIES = [\"class1\",\"class2\",\"Org\"]\n",
    "counter=0\n",
    "for category in CATEGORIES:  \n",
    "    clss_name, _ = os.path.splitext(category)\n",
    "    if clss_name == 'class1':  \n",
    "        path = os.path.join(data_dir2,clss_name) \n",
    "        for img in os.listdir(path): \n",
    "            name, _ = os.path.splitext(img)\n",
    "            image_array = imread(os.path.join(path,img))\n",
    "            for i in range(0,3):\n",
    "                image_array_N = image_array[...,i]\n",
    "                image_array_N = image_array_N[..., tf.newaxis]\n",
    "                fileFormat = \"{0}{1}.jpeg\"\n",
    "                counter+=1\n",
    "                io.imsave(os.path.join(save_dir_N2, fileFormat.format(name ,counter)), image_array_N)\n",
    "    \n",
    "    if clss_name == 'class2': \n",
    "        path = os.path.join(data_dir2,clss_name) \n",
    "        for img in os.listdir(path): \n",
    "            name, _ = os.path.splitext(img)\n",
    "            image_array = imread(os.path.join(path,img))\n",
    "            for i in range(0,3):\n",
    "                image_array_N = image_array[...,i]\n",
    "                image_array_N = image_array_N[..., tf.newaxis]\n",
    "                fileFormat = \"{0}{1}.jpeg\"\n",
    "                counter+=1\n",
    "                io.imsave(os.path.join(save_dir_N3, fileFormat.format(name ,counter)), image_array_N)\n",
    "    \n",
    "    if clss_name == 'Org': \n",
    "        path = os.path.join(data_dir2,clss_name) \n",
    "        for img in os.listdir(path): \n",
    "            name, _ = os.path.splitext(img)\n",
    "            image_array = imread(os.path.join(path,img))\n",
    "            for i in range(0,3):\n",
    "                image_array_N = image_array[...,i]\n",
    "                image_array_N = image_array_N[..., tf.newaxis]\n",
    "                fileFormat = \"{0}{1}.jpeg\"\n",
    "                counter+=1\n",
    "                io.imsave(os.path.join(save_dir_N1, fileFormat.format(name ,counter)), image_array_N)\n",
    "          "
   ]
  },
  {
   "cell_type": "code",
   "execution_count": null,
   "metadata": {},
   "outputs": [],
   "source": []
  }
 ],
 "metadata": {
  "kernelspec": {
   "display_name": "Python 3",
   "language": "python",
   "name": "python3"
  },
  "language_info": {
   "codemirror_mode": {
    "name": "ipython",
    "version": 3
   },
   "file_extension": ".py",
   "mimetype": "text/x-python",
   "name": "python",
   "nbconvert_exporter": "python",
   "pygments_lexer": "ipython3",
   "version": "3.8.5"
  }
 },
 "nbformat": 4,
 "nbformat_minor": 4
}
