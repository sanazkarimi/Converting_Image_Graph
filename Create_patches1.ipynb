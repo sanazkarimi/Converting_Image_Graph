{
 "cells": [
  {
   "cell_type": "markdown",
   "metadata": {},
   "source": [
    "# Imports "
   ]
  },
  {
   "cell_type": "code",
   "execution_count": 1,
   "metadata": {},
   "outputs": [],
   "source": [
    "import numpy as np \n",
    "from skimage import io\n",
    "from skimage.io import imread\n",
    "import matplotlib.pyplot as plt\n",
    "import seaborn as sns\n",
    "from scipy.stats import entropy\n",
    "import os\n",
    "import seaborn as sns\n",
    "#import cv2 as cv"
   ]
  },
  {
   "cell_type": "markdown",
   "metadata": {},
   "source": [
    "# Create patches for each class"
   ]
  },
  {
   "cell_type": "code",
   "execution_count": 2,
   "metadata": {},
   "outputs": [],
   "source": [
    "\n",
    "    \n",
    "\n",
    "\n",
    "if not os.path.exists(os.path.join(\"Input_data\")):\n",
    "    \n",
    "    os.makedirs(os.path.join( \"Input_data\"))\n",
    "    \n",
    "    data_dir2=\"Input_data\"\n",
    "    \n",
    "    os.makedirs(os.path.join(data_dir2, \"Patch1\"))\n",
    "    os.makedirs(os.path.join(data_dir2, \"Patch2\"))\n",
    "    os.makedirs(os.path.join(data_dir2, \"Patch3\"))\n",
    "\n",
    "\n",
    "save_dir1=\"Input_data\\Patch1\"\n",
    "save_dir2=\"Input_data\\Patch2\"\n",
    "save_dir3=\"Input_data\\Patch3\"\n",
    "\n",
    "training_data = []\n",
    "\n",
    "DATADIR = \"Data\"\n",
    "CATEGORIES = [\"Class1\",\"Class2\",\"Class3\"]\n",
    "org_mtrx = []\n",
    "k_1 = 0\n",
    "k_2 = 0\n",
    "k_3 = 0\n",
    "for category in CATEGORIES:\n",
    "    if category == \"Class1\":\n",
    "        clss_grade = 1\n",
    "    elif category == \"Class2\":\n",
    "        clss_grade = 2\n",
    "    else:\n",
    "        clss_grade = 3\n",
    "        \n",
    "    path = os.path.join(DATADIR,category)\n",
    "    clss_name, _ = os.path.splitext(category)\n",
    "    for img in os.listdir(path): \n",
    "        mtrx = []\n",
    "        name, _ = os.path.splitext(img)          \n",
    "        img_array = imread(os.path.join(path,img))             \n",
    "        H = img_array.shape[0]\n",
    "        W = img_array.shape[1]\n",
    "        Patch_Height = 256\n",
    "        Patch_Width = 256\n",
    "\n",
    "        heat_map = []\n",
    "        \n",
    "        index_x = -1\n",
    "        for i in range(0,H,Patch_Height):\n",
    "            index_x += 1\n",
    "            index_y = -1\n",
    "            for j in range(0,W,Patch_Width):\n",
    "                index_y += 1\n",
    "                patch = img_array[i:i+Patch_Height,j:j+Patch_Width]\n",
    "                #patch_one_channel=patch[:,:,2]\n",
    "                name1 = \"image_x{}\".format(k_1)\n",
    "                name2 = \"image_y{}\".format(k_2)\n",
    "                name3 = \"image_z{}\".format(k_3)\n",
    "                if patch.shape[0] == Patch_Height and patch.shape[1] == Patch_Width:\n",
    "                    if clss_name == \"Class1\" :\n",
    "                        index_patch = [index_x, index_y]\n",
    "                        mtrx.append([name, name1, index_patch,clss_grade])\n",
    "                        k_1 +=1\n",
    "                        io.imsave(os.path.join(save_dir1, (name1) + \".jpeg\"), patch) \n",
    "                    if clss_name == \"Class2\":\n",
    "                        index_patch = [index_x, index_y]\n",
    "                        mtrx.append([name, name2, index_patch,clss_grade])\n",
    "                        k_2 +=1\n",
    "                        io.imsave(os.path.join(save_dir2, (name2) + \".jpeg\"), patch) \n",
    "                    if clss_name == \"Class3\":\n",
    "                        index_patch = [index_x, index_y]\n",
    "                        mtrx.append([name, name3, index_patch,clss_grade])\n",
    "                        k_3 +=1\n",
    "                        io.imsave(os.path.join(save_dir3, (name3) + \".jpeg\"), patch) \n",
    "\n",
    "        org_mtrx .append(mtrx)           \n"
   ]
  },
  {
   "cell_type": "code",
   "execution_count": 4,
   "metadata": {},
   "outputs": [
    {
     "name": "stdout",
     "output_type": "stream",
     "text": [
      "[['A03_00A', 'image_x0', [0, 0], 1], ['A03_00A', 'image_x1', [0, 1], 1], ['A03_00A', 'image_x2', [0, 2], 1], ['A03_00A', 'image_x3', [0, 3], 1], ['A03_00A', 'image_x4', [0, 4], 1], ['A03_00A', 'image_x5', [0, 5], 1], ['A03_00A', 'image_x6', [1, 0], 1], ['A03_00A', 'image_x7', [1, 1], 1], ['A03_00A', 'image_x8', [1, 2], 1], ['A03_00A', 'image_x9', [1, 3], 1], ['A03_00A', 'image_x10', [1, 4], 1], ['A03_00A', 'image_x11', [1, 5], 1], ['A03_00A', 'image_x12', [2, 0], 1], ['A03_00A', 'image_x13', [2, 1], 1], ['A03_00A', 'image_x14', [2, 2], 1], ['A03_00A', 'image_x15', [2, 3], 1], ['A03_00A', 'image_x16', [2, 4], 1], ['A03_00A', 'image_x17', [2, 5], 1], ['A03_00A', 'image_x18', [3, 0], 1], ['A03_00A', 'image_x19', [3, 1], 1], ['A03_00A', 'image_x20', [3, 2], 1], ['A03_00A', 'image_x21', [3, 3], 1], ['A03_00A', 'image_x22', [3, 4], 1], ['A03_00A', 'image_x23', [3, 5], 1], ['A03_00A', 'image_x24', [4, 0], 1], ['A03_00A', 'image_x25', [4, 1], 1], ['A03_00A', 'image_x26', [4, 2], 1], ['A03_00A', 'image_x27', [4, 3], 1], ['A03_00A', 'image_x28', [4, 4], 1], ['A03_00A', 'image_x29', [4, 5], 1]]\n"
     ]
    }
   ],
   "source": [
    "print(org_mtrx[0])"
   ]
  }
 ],
 "metadata": {
  "kernelspec": {
   "display_name": "Python 3 (ipykernel)",
   "language": "python",
   "name": "python3"
  },
  "language_info": {
   "codemirror_mode": {
    "name": "ipython",
    "version": 3
   },
   "file_extension": ".py",
   "mimetype": "text/x-python",
   "name": "python",
   "nbconvert_exporter": "python",
   "pygments_lexer": "ipython3",
   "version": "3.8.10"
  }
 },
 "nbformat": 4,
 "nbformat_minor": 4
}
